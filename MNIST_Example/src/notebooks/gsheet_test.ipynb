{
 "cells": [
  {
   "cell_type": "code",
   "execution_count": 1,
   "metadata": {},
   "outputs": [
    {
     "name": "stdout",
     "output_type": "stream",
     "text": [
      "Please visit this URL to authorize this application: https://accounts.google.com/o/oauth2/auth?response_type=code&client_id=354685048115-oc6aut8p55h13hgpgs85rgk13si6asfq.apps.googleusercontent.com&redirect_uri=http%3A%2F%2Flocalhost%3A51156%2F&scope=https%3A%2F%2Fwww.googleapis.com%2Fauth%2Fspreadsheets&state=PVP7tW77KeSwyHV6CU6uEN58K7VDOO&access_type=offline\n"
     ]
    }
   ],
   "source": [
    "import pandas as pd\r\n",
    "from googleapiclient.discovery import build\r\n",
    "from google_auth_oauthlib.flow import InstalledAppFlow,Flow\r\n",
    "from google.auth.transport.requests import Request\r\n",
    "import os\r\n",
    "import pickle\r\n",
    "\r\n",
    "SCOPES = ['https://www.googleapis.com/auth/spreadsheets']\r\n",
    "\r\n",
    "# here enter the id of your google sheet\r\n",
    "SAMPLE_SPREADSHEET_ID_input = '1VdsUKtT4nM326anMHiAHajjig21q6_nNRWzUVBcQWqg'\r\n",
    "SAMPLE_RANGE_NAME = 'A1:B6'\r\n",
    "\r\n",
    "def main():\r\n",
    "    global values_input, service\r\n",
    "    creds = None\r\n",
    "    if os.path.exists('token.pickle'):\r\n",
    "        with open('token.pickle', 'rb') as token:\r\n",
    "            creds = pickle.load(token)\r\n",
    "    if not creds or not creds.valid:\r\n",
    "        if creds and creds.expired and creds.refresh_token:\r\n",
    "            creds.refresh(Request())\r\n",
    "        else:\r\n",
    "            flow = InstalledAppFlow.from_client_secrets_file(\r\n",
    "                'c:\\\\Users\\\\Yusuf\\\\Documents\\\\Projects\\\\Intro2DL\\\\client_secret_354685048115-oc6aut8p55h13hgpgs85rgk13si6asfq.apps.googleusercontent.com.json', SCOPES) # here enter the name of your downloaded JSON file\r\n",
    "            creds = flow.run_local_server(port=51156)\r\n",
    "        with open('token.pickle', 'wb') as token:\r\n",
    "            pickle.dump(creds, token)\r\n",
    "\r\n",
    "    service = build('sheets', 'v4', credentials=creds)\r\n",
    "\r\n",
    "    # Call the Sheets API\r\n",
    "    sheet = service.spreadsheets()\r\n",
    "    result_input = sheet.values().get(spreadsheetId=SAMPLE_SPREADSHEET_ID_input,\r\n",
    "                                range=SAMPLE_RANGE_NAME).execute()\r\n",
    "    values_input = result_input.get('values', [])\r\n",
    "\r\n",
    "    if not values_input and not values_expansion:\r\n",
    "        print('No data found.')\r\n",
    "\r\n",
    "main()\r\n",
    "\r\n",
    "df=pd.DataFrame(values_input[1:], columns=values_input[0])"
   ]
  },
  {
   "cell_type": "code",
   "execution_count": 2,
   "metadata": {},
   "outputs": [
    {
     "data": {
      "text/html": [
       "<div>\n",
       "<style scoped>\n",
       "    .dataframe tbody tr th:only-of-type {\n",
       "        vertical-align: middle;\n",
       "    }\n",
       "\n",
       "    .dataframe tbody tr th {\n",
       "        vertical-align: top;\n",
       "    }\n",
       "\n",
       "    .dataframe thead th {\n",
       "        text-align: right;\n",
       "    }\n",
       "</style>\n",
       "<table border=\"1\" class=\"dataframe\">\n",
       "  <thead>\n",
       "    <tr style=\"text-align: right;\">\n",
       "      <th></th>\n",
       "      <th>City</th>\n",
       "      <th>Temp</th>\n",
       "    </tr>\n",
       "  </thead>\n",
       "  <tbody>\n",
       "    <tr>\n",
       "      <th>0</th>\n",
       "      <td>1</td>\n",
       "      <td>45</td>\n",
       "    </tr>\n",
       "    <tr>\n",
       "      <th>1</th>\n",
       "      <td>2</td>\n",
       "      <td>56</td>\n",
       "    </tr>\n",
       "    <tr>\n",
       "      <th>2</th>\n",
       "      <td>3</td>\n",
       "      <td>67</td>\n",
       "    </tr>\n",
       "    <tr>\n",
       "      <th>3</th>\n",
       "      <td>4</td>\n",
       "      <td>89</td>\n",
       "    </tr>\n",
       "    <tr>\n",
       "      <th>4</th>\n",
       "      <td>5</td>\n",
       "      <td>23</td>\n",
       "    </tr>\n",
       "  </tbody>\n",
       "</table>\n",
       "</div>"
      ],
      "text/plain": [
       "  City Temp\n",
       "0    1   45\n",
       "1    2   56\n",
       "2    3   67\n",
       "3    4   89\n",
       "4    5   23"
      ]
     },
     "execution_count": 2,
     "metadata": {},
     "output_type": "execute_result"
    }
   ],
   "source": [
    "df"
   ]
  },
  {
   "cell_type": "code",
   "execution_count": null,
   "metadata": {},
   "outputs": [],
   "source": []
  }
 ],
 "metadata": {
  "interpreter": {
   "hash": "62489826a4f3010c5611223430f0b1efbae41b44b51bc625a1caacd99499b57e"
  },
  "kernelspec": {
   "display_name": "Python 3.7.4 64-bit ('.venv': poetry)",
   "name": "python3"
  },
  "language_info": {
   "codemirror_mode": {
    "name": "ipython",
    "version": 3
   },
   "file_extension": ".py",
   "mimetype": "text/x-python",
   "name": "python",
   "nbconvert_exporter": "python",
   "pygments_lexer": "ipython3",
   "version": "3.7.4"
  },
  "orig_nbformat": 4
 },
 "nbformat": 4,
 "nbformat_minor": 2
}