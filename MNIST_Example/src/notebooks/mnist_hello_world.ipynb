{
  "nbformat": 4,
  "nbformat_minor": 5,
  "metadata": {
    "jupytext": {
      "cell_metadata_filter": "colab_type,colab,id,-all",
      "formats": "ipynb,py:percent",
      "main_language": "python"
    },
    "language_info": {
      "codemirror_mode": {
        "name": "ipython",
        "version": 3
      },
      "file_extension": ".py",
      "mimetype": "text/x-python",
      "name": "python",
      "nbconvert_exporter": "python",
      "pygments_lexer": "ipython3",
      "version": "3.9.6"
    },
    "papermill": {
      "default_parameters": {},
      "duration": 68.761176,
      "end_time": "2021-07-26T21:27:12.747459",
      "environment_variables": {},
      "exception": null,
      "input_path": "lightning_examples/mnist-hello-world/hello-world.ipynb",
      "output_path": ".notebooks/lightning_examples/mnist-hello-world.ipynb",
      "parameters": {},
      "start_time": "2021-07-26T21:26:03.986283",
      "version": "2.3.3"
    },
    "widgets": {
      "application/vnd.jupyter.widget-state+json": {}
    },
    "colab": {
      "name": "mnist-hello-world.ipynb",
      "provenance": []
    }
  },
  "cells": [
    {
      "cell_type": "markdown",
      "metadata": {
        "papermill": {
          "duration": 0.009347,
          "end_time": "2021-07-26T21:26:04.808198",
          "exception": false,
          "start_time": "2021-07-26T21:26:04.798851",
          "status": "completed"
        },
        "tags": [],
        "id": "d7ab30c9"
      },
      "source": [
        "\n",
        "# Introduction to Pytorch Lightning\n",
        "\n",
        "* **Author:** PL team\n",
        "* **License:** CC BY-SA\n",
        "* **Generated:** 2021-07-26T23:14:44.105855\n",
        "\n",
        "In this notebook, we'll go over the basics of lightning by preparing models to train on the [MNIST Handwritten Digits dataset](https://en.wikipedia.org/wiki/MNIST_database).\n",
        "\n",
        "---\n",
        "Open in [![Open In Colab](data:image/png;base64,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){height=\"20px\" width=\"117px\"}](https://colab.research.google.com/github/PytorchLightning/lightning-tutorials/blob/publication/.notebooks/lightning_examples/mnist-hello-world.ipynb)\n",
        "\n",
        "Give us a ⭐ [on Github](https://www.github.com/PytorchLightning/pytorch-lightning/)\n",
        "| Check out [the documentation](https://pytorch-lightning.readthedocs.io/en/latest/)\n",
        "| Join us [on Slack](https://join.slack.com/t/pytorch-lightning/shared_invite/zt-pw5v393p-qRaDgEk24~EjiZNBpSQFgQ)"
      ],
      "id": "d7ab30c9"
    },
    {
      "cell_type": "markdown",
      "metadata": {
        "papermill": {
          "duration": 0.007667,
          "end_time": "2021-07-26T21:26:04.823913",
          "exception": false,
          "start_time": "2021-07-26T21:26:04.816246",
          "status": "completed"
        },
        "tags": [],
        "id": "4e529bc3"
      },
      "source": [
        "### Setup\n",
        "This notebook requires some packages besides pytorch-lightning."
      ],
      "id": "4e529bc3"
    },
    {
      "cell_type": "code",
      "metadata": {
        "execution": {
          "iopub.execute_input": "2021-07-26T21:26:04.846263Z",
          "iopub.status.busy": "2021-07-26T21:26:04.845794Z",
          "iopub.status.idle": "2021-07-26T21:26:07.185955Z",
          "shell.execute_reply": "2021-07-26T21:26:07.185452Z"
        },
        "id": "48fda9e5",
        "lines_to_next_cell": 0,
        "papermill": {
          "duration": 2.354524,
          "end_time": "2021-07-26T21:26:07.186085",
          "exception": false,
          "start_time": "2021-07-26T21:26:04.831561",
          "status": "completed"
        },
        "tags": [],
        "outputId": "cacb5b3d-3567-434a-e019-fce3b670f494"
      },
      "source": [
        "! pip install --quiet \"pytorch-lightning>=1.3\" \"torchvision\" \"torchmetrics>=0.3\" \"torch>=1.6, <1.9\""
      ],
      "id": "48fda9e5",
      "execution_count": null,
      "outputs": [
        {
          "name": "stdout",
          "output_type": "stream",
          "text": [
            "\u001b[33mWARNING: Value for scheme.platlib does not match. Please report this to <https://github.com/pypa/pip/issues/10151>\r\n",
            "distutils: /usr/local/lib/python3.9/dist-packages\r\n",
            "sysconfig: /usr/lib/python3.9/site-packages\u001b[0m\r\n",
            "\u001b[33mWARNING: Value for scheme.purelib does not match. Please report this to <https://github.com/pypa/pip/issues/10151>\r\n",
            "distutils: /usr/local/lib/python3.9/dist-packages\r\n",
            "sysconfig: /usr/lib/python3.9/site-packages\u001b[0m\r\n",
            "\u001b[33mWARNING: Value for scheme.headers does not match. Please report this to <https://github.com/pypa/pip/issues/10151>\r\n",
            "distutils: /usr/local/include/python3.9/UNKNOWN\r\n",
            "sysconfig: /usr/include/python3.9/UNKNOWN\u001b[0m\r\n",
            "\u001b[33mWARNING: Value for scheme.scripts does not match. Please report this to <https://github.com/pypa/pip/issues/10151>\r\n",
            "distutils: /usr/local/bin\r\n",
            "sysconfig: /usr/bin\u001b[0m\r\n",
            "\u001b[33mWARNING: Value for scheme.data does not match. Please report this to <https://github.com/pypa/pip/issues/10151>\r\n",
            "distutils: /usr/local\r\n",
            "sysconfig: /usr\u001b[0m\r\n",
            "\u001b[33mWARNING: Additional context:\r\n",
            "user = False\r\n",
            "home = None\r\n",
            "root = None\r\n",
            "prefix = None\u001b[0m\r\n"
          ]
        }
      ]
    },
    {
      "cell_type": "code",
      "metadata": {
        "execution": {
          "iopub.execute_input": "2021-07-26T21:26:07.207776Z",
          "iopub.status.busy": "2021-07-26T21:26:07.205303Z",
          "iopub.status.idle": "2021-07-26T21:26:08.417535Z",
          "shell.execute_reply": "2021-07-26T21:26:08.417086Z"
        },
        "papermill": {
          "duration": 1.222282,
          "end_time": "2021-07-26T21:26:08.417659",
          "exception": false,
          "start_time": "2021-07-26T21:26:07.195377",
          "status": "completed"
        },
        "tags": [],
        "id": "d55247f1"
      },
      "source": [
        "import os\n",
        "\n",
        "import torch\n",
        "from pytorch_lightning import LightningModule, Trainer\n",
        "from pytorch_lightning.metrics.functional import accuracy\n",
        "from torch import nn\n",
        "from torch.nn import functional as F\n",
        "from torch.utils.data import DataLoader, random_split\n",
        "from torchvision import transforms\n",
        "from torchvision.datasets import MNIST\n",
        "\n",
        "PATH_DATASETS = os.environ.get('PATH_DATASETS', '.')\n",
        "AVAIL_GPUS = min(1, torch.cuda.device_count())\n",
        "BATCH_SIZE = 256 if AVAIL_GPUS else 64"
      ],
      "id": "d55247f1",
      "execution_count": null,
      "outputs": []
    },
    {
      "cell_type": "markdown",
      "metadata": {
        "lines_to_next_cell": 2,
        "papermill": {
          "duration": 0.008354,
          "end_time": "2021-07-26T21:26:08.434757",
          "exception": false,
          "start_time": "2021-07-26T21:26:08.426403",
          "status": "completed"
        },
        "tags": [],
        "id": "f8a1328d"
      },
      "source": [
        "## Simplest example\n",
        "\n",
        "Here's the simplest most minimal example with just a training loop (no validation, no testing).\n",
        "\n",
        "**Keep in Mind** - A `LightningModule` *is* a PyTorch `nn.Module` - it just has a few more helpful features."
      ],
      "id": "f8a1328d"
    },
    {
      "cell_type": "code",
      "metadata": {
        "execution": {
          "iopub.execute_input": "2021-07-26T21:26:08.456411Z",
          "iopub.status.busy": "2021-07-26T21:26:08.455913Z",
          "iopub.status.idle": "2021-07-26T21:26:08.457916Z",
          "shell.execute_reply": "2021-07-26T21:26:08.457518Z"
        },
        "papermill": {
          "duration": 0.0152,
          "end_time": "2021-07-26T21:26:08.458017",
          "exception": false,
          "start_time": "2021-07-26T21:26:08.442817",
          "status": "completed"
        },
        "tags": [],
        "id": "ccb7f426"
      },
      "source": [
        "class MNISTModel(LightningModule):\n",
        "\n",
        "    def __init__(self):\n",
        "        super().__init__()\n",
        "        self.l1 = torch.nn.Linear(28 * 28, 10)\n",
        "\n",
        "    def forward(self, x):\n",
        "        return torch.relu(self.l1(x.view(x.size(0), -1)))\n",
        "\n",
        "    def training_step(self, batch, batch_nb):\n",
        "        x, y = batch\n",
        "        loss = F.cross_entropy(self(x), y)\n",
        "        return loss\n",
        "\n",
        "    def configure_optimizers(self):\n",
        "        return torch.optim.Adam(self.parameters(), lr=0.02)"
      ],
      "id": "ccb7f426",
      "execution_count": null,
      "outputs": []
    },
    {
      "cell_type": "markdown",
      "metadata": {
        "papermill": {
          "duration": 0.008218,
          "end_time": "2021-07-26T21:26:08.474374",
          "exception": false,
          "start_time": "2021-07-26T21:26:08.466156",
          "status": "completed"
        },
        "tags": [],
        "id": "e0e31f48"
      },
      "source": [
        "By using the `Trainer` you automatically get:\n",
        "1. Tensorboard logging\n",
        "2. Model checkpointing\n",
        "3. Training and validation loop\n",
        "4. early-stopping"
      ],
      "id": "e0e31f48"
    },
    {
      "cell_type": "code",
      "metadata": {
        "execution": {
          "iopub.execute_input": "2021-07-26T21:26:08.507112Z",
          "iopub.status.busy": "2021-07-26T21:26:08.506629Z",
          "iopub.status.idle": "2021-07-26T21:26:26.967610Z",
          "shell.execute_reply": "2021-07-26T21:26:26.967129Z"
        },
        "papermill": {
          "duration": 18.473111,
          "end_time": "2021-07-26T21:26:26.967729",
          "exception": false,
          "start_time": "2021-07-26T21:26:08.494618",
          "status": "completed"
        },
        "tags": [],
        "id": "58dea4dc",
        "outputId": "192e20e4-7e9b-4f61-ad2a-173cdc2f65e4",
        "colab": {
          "referenced_widgets": [
            "ba39501605c94bd899241b800646dfe6"
          ]
        }
      },
      "source": [
        "# Init our model\n",
        "mnist_model = MNISTModel()\n",
        "\n",
        "# Init DataLoader from MNIST Dataset\n",
        "train_ds = MNIST(PATH_DATASETS, train=True, download=True, transform=transforms.ToTensor())\n",
        "train_loader = DataLoader(train_ds, batch_size=BATCH_SIZE)\n",
        "\n",
        "# Initialize a trainer\n",
        "trainer = Trainer(\n",
        "    gpus=AVAIL_GPUS,\n",
        "    max_epochs=3,\n",
        "    progress_bar_refresh_rate=20,\n",
        ")\n",
        "\n",
        "# Train the model ⚡\n",
        "trainer.fit(mnist_model, train_loader)"
      ],
      "id": "58dea4dc",
      "execution_count": null,
      "outputs": [
        {
          "name": "stderr",
          "output_type": "stream",
          "text": [
            "GPU available: True, used: True\n"
          ]
        },
        {
          "name": "stderr",
          "output_type": "stream",
          "text": [
            "TPU available: False, using: 0 TPU cores\n"
          ]
        },
        {
          "name": "stderr",
          "output_type": "stream",
          "text": [
            "LOCAL_RANK: 0 - CUDA_VISIBLE_DEVICES: [0,1]\n"
          ]
        },
        {
          "name": "stderr",
          "output_type": "stream",
          "text": [
            "\n",
            "  | Name | Type   | Params\n",
            "--------------------------------\n",
            "0 | l1   | Linear | 7.9 K \n",
            "--------------------------------\n",
            "7.9 K     Trainable params\n",
            "0         Non-trainable params\n",
            "7.9 K     Total params\n",
            "0.031     Total estimated model params size (MB)\n"
          ]
        },
        {
          "name": "stderr",
          "output_type": "stream",
          "text": [
            "/home/AzDevOps_azpcontainer/.local/lib/python3.9/site-packages/pytorch_lightning/trainer/data_loading.py:102: UserWarning: The dataloader, train dataloader, does not have many workers which may be a bottleneck. Consider increasing the value of the `num_workers` argument` (try 12 which is the number of cpus on this machine) in the `DataLoader` init to improve performance.\n",
            "  rank_zero_warn(\n"
          ]
        },
        {
          "data": {
            "application/vnd.jupyter.widget-view+json": {
              "model_id": "ba39501605c94bd899241b800646dfe6",
              "version_major": 2,
              "version_minor": 0
            },
            "text/plain": [
              "Training: 0it [00:00, ?it/s]"
            ]
          },
          "metadata": {},
          "output_type": "display_data"
        }
      ]
    },
    {
      "cell_type": "markdown",
      "metadata": {
        "lines_to_next_cell": 2,
        "papermill": {
          "duration": 0.009607,
          "end_time": "2021-07-26T21:26:26.987558",
          "exception": false,
          "start_time": "2021-07-26T21:26:26.977951",
          "status": "completed"
        },
        "tags": [],
        "id": "fb4999b8"
      },
      "source": [
        "## A more complete MNIST Lightning Module Example\n",
        "\n",
        "That wasn't so hard was it?\n",
        "\n",
        "Now that we've got our feet wet, let's dive in a bit deeper and write a more complete `LightningModule` for MNIST...\n",
        "\n",
        "This time, we'll bake in all the dataset specific pieces directly in the `LightningModule`.\n",
        "This way, we can avoid writing extra code at the beginning of our script every time we want to run it.\n",
        "\n",
        "---\n",
        "\n",
        "### Note what the following built-in functions are doing:\n",
        "\n",
        "1. [prepare_data()](https://pytorch-lightning.readthedocs.io/en/latest/api/pytorch_lightning.core.lightning.html#pytorch_lightning.core.lightning.LightningModule.prepare_data) 💾\n",
        "    - This is where we can download the dataset. We point to our desired dataset and ask torchvision's `MNIST` dataset class to download if the dataset isn't found there.\n",
        "    - **Note we do not make any state assignments in this function** (i.e. `self.something = ...`)\n",
        "\n",
        "2. [setup(stage)](https://pytorch-lightning.readthedocs.io/en/latest/common/lightning-module.html#setup) ⚙️\n",
        "    - Loads in data from file and prepares PyTorch tensor datasets for each split (train, val, test).\n",
        "    - Setup expects a 'stage' arg which is used to separate logic for 'fit' and 'test'.\n",
        "    - If you don't mind loading all your datasets at once, you can set up a condition to allow for both 'fit' related setup and 'test' related setup to run whenever `None` is passed to `stage` (or ignore it altogether and exclude any conditionals).\n",
        "    - **Note this runs across all GPUs and it *is* safe to make state assignments here**\n",
        "\n",
        "3. [x_dataloader()](https://pytorch-lightning.readthedocs.io/en/latest/common/lightning-module.html#data-hooks) ♻️\n",
        "    - `train_dataloader()`, `val_dataloader()`, and `test_dataloader()` all return PyTorch `DataLoader` instances that are created by wrapping their respective datasets that we prepared in `setup()`"
      ],
      "id": "fb4999b8"
    },
    {
      "cell_type": "code",
      "metadata": {
        "execution": {
          "iopub.execute_input": "2021-07-26T21:26:27.019833Z",
          "iopub.status.busy": "2021-07-26T21:26:27.019353Z",
          "iopub.status.idle": "2021-07-26T21:26:27.021440Z",
          "shell.execute_reply": "2021-07-26T21:26:27.020983Z"
        },
        "papermill": {
          "duration": 0.023573,
          "end_time": "2021-07-26T21:26:27.021538",
          "exception": false,
          "start_time": "2021-07-26T21:26:26.997965",
          "status": "completed"
        },
        "tags": [],
        "id": "0e1becf5"
      },
      "source": [
        "class LitMNIST(LightningModule):\n",
        "\n",
        "    def __init__(self, data_dir=PATH_DATASETS, hidden_size=64, learning_rate=2e-4):\n",
        "\n",
        "        super().__init__()\n",
        "\n",
        "        # Set our init args as class attributes\n",
        "        self.data_dir = data_dir\n",
        "        self.hidden_size = hidden_size\n",
        "        self.learning_rate = learning_rate\n",
        "\n",
        "        # Hardcode some dataset specific attributes\n",
        "        self.num_classes = 10\n",
        "        self.dims = (1, 28, 28)\n",
        "        channels, width, height = self.dims\n",
        "        self.transform = transforms.Compose([\n",
        "            transforms.ToTensor(),\n",
        "            transforms.Normalize((0.1307, ), (0.3081, )),\n",
        "        ])\n",
        "\n",
        "        # Define PyTorch model\n",
        "        self.model = nn.Sequential(\n",
        "            nn.Flatten(),\n",
        "            nn.Linear(channels * width * height, hidden_size),\n",
        "            nn.ReLU(),\n",
        "            nn.Dropout(0.1),\n",
        "            nn.Linear(hidden_size, hidden_size),\n",
        "            nn.ReLU(),\n",
        "            nn.Dropout(0.1),\n",
        "            nn.Linear(hidden_size, self.num_classes),\n",
        "        )\n",
        "\n",
        "    def forward(self, x):\n",
        "        x = self.model(x)\n",
        "        return F.log_softmax(x, dim=1)\n",
        "\n",
        "    def training_step(self, batch, batch_idx):\n",
        "        x, y = batch\n",
        "        logits = self(x)\n",
        "        loss = F.nll_loss(logits, y)\n",
        "        return loss\n",
        "\n",
        "    def validation_step(self, batch, batch_idx):\n",
        "        x, y = batch\n",
        "        logits = self(x)\n",
        "        loss = F.nll_loss(logits, y)\n",
        "        preds = torch.argmax(logits, dim=1)\n",
        "        acc = accuracy(preds, y)\n",
        "\n",
        "        # Calling self.log will surface up scalars for you in TensorBoard\n",
        "        self.log('val_loss', loss, prog_bar=True)\n",
        "        self.log('val_acc', acc, prog_bar=True)\n",
        "        return loss\n",
        "\n",
        "    def test_step(self, batch, batch_idx):\n",
        "        # Here we just reuse the validation_step for testing\n",
        "        return self.validation_step(batch, batch_idx)\n",
        "\n",
        "    def configure_optimizers(self):\n",
        "        optimizer = torch.optim.Adam(self.parameters(), lr=self.learning_rate)\n",
        "        return optimizer\n",
        "\n",
        "    ####################\n",
        "    # DATA RELATED HOOKS\n",
        "    ####################\n",
        "\n",
        "    def prepare_data(self):\n",
        "        # download\n",
        "        MNIST(self.data_dir, train=True, download=True)\n",
        "        MNIST(self.data_dir, train=False, download=True)\n",
        "\n",
        "    def setup(self, stage=None):\n",
        "\n",
        "        # Assign train/val datasets for use in dataloaders\n",
        "        if stage == 'fit' or stage is None:\n",
        "            mnist_full = MNIST(self.data_dir, train=True, transform=self.transform)\n",
        "            self.mnist_train, self.mnist_val = random_split(mnist_full, [55000, 5000])\n",
        "\n",
        "        # Assign test dataset for use in dataloader(s)\n",
        "        if stage == 'test' or stage is None:\n",
        "            self.mnist_test = MNIST(self.data_dir, train=False, transform=self.transform)\n",
        "\n",
        "    def train_dataloader(self):\n",
        "        return DataLoader(self.mnist_train, batch_size=BATCH_SIZE)\n",
        "\n",
        "    def val_dataloader(self):\n",
        "        return DataLoader(self.mnist_val, batch_size=BATCH_SIZE)\n",
        "\n",
        "    def test_dataloader(self):\n",
        "        return DataLoader(self.mnist_test, batch_size=BATCH_SIZE)"
      ],
      "id": "0e1becf5",
      "execution_count": null,
      "outputs": []
    },
    {
      "cell_type": "code",
      "metadata": {
        "execution": {
          "iopub.execute_input": "2021-07-26T21:26:27.044235Z",
          "iopub.status.busy": "2021-07-26T21:26:27.043664Z",
          "iopub.status.idle": "2021-07-26T21:26:58.207641Z",
          "shell.execute_reply": "2021-07-26T21:26:58.207165Z"
        },
        "papermill": {
          "duration": 31.176394,
          "end_time": "2021-07-26T21:26:58.207755",
          "exception": false,
          "start_time": "2021-07-26T21:26:27.031361",
          "status": "completed"
        },
        "tags": [],
        "id": "6d6c2603",
        "outputId": "ea307ac1-d993-4abb-e986-3e0bbd0c95a3",
        "colab": {
          "referenced_widgets": [
            "3f52e2210ad6494c965ebac8c6685eea",
            "191659b1a51f424abe59713294f0b849",
            "d0f1fb02f8294bca861b24e171287770",
            "f288303a8abe40d6acbb38f96c65d192",
            "0343828b3e42471eb5dc4de052d0fbb9"
          ]
        }
      },
      "source": [
        "model = LitMNIST()\n",
        "trainer = Trainer(\n",
        "    gpus=AVAIL_GPUS,\n",
        "    max_epochs=3,\n",
        "    progress_bar_refresh_rate=20,\n",
        ")\n",
        "trainer.fit(model)"
      ],
      "id": "6d6c2603",
      "execution_count": null,
      "outputs": [
        {
          "name": "stderr",
          "output_type": "stream",
          "text": [
            "GPU available: True, used: True\n"
          ]
        },
        {
          "name": "stderr",
          "output_type": "stream",
          "text": [
            "TPU available: False, using: 0 TPU cores\n"
          ]
        },
        {
          "name": "stderr",
          "output_type": "stream",
          "text": [
            "LOCAL_RANK: 0 - CUDA_VISIBLE_DEVICES: [0,1]\n"
          ]
        },
        {
          "name": "stderr",
          "output_type": "stream",
          "text": [
            "\n",
            "  | Name  | Type       | Params\n",
            "-------------------------------------\n",
            "0 | model | Sequential | 55.1 K\n",
            "-------------------------------------\n",
            "55.1 K    Trainable params\n",
            "0         Non-trainable params\n",
            "55.1 K    Total params\n",
            "0.220     Total estimated model params size (MB)\n"
          ]
        },
        {
          "data": {
            "application/vnd.jupyter.widget-view+json": {
              "model_id": "3f52e2210ad6494c965ebac8c6685eea",
              "version_major": 2,
              "version_minor": 0
            },
            "text/plain": [
              "Validation sanity check: 0it [00:00, ?it/s]"
            ]
          },
          "metadata": {},
          "output_type": "display_data"
        },
        {
          "name": "stderr",
          "output_type": "stream",
          "text": [
            "/home/AzDevOps_azpcontainer/.local/lib/python3.9/site-packages/pytorch_lightning/trainer/data_loading.py:102: UserWarning: The dataloader, val dataloader 0, does not have many workers which may be a bottleneck. Consider increasing the value of the `num_workers` argument` (try 12 which is the number of cpus on this machine) in the `DataLoader` init to improve performance.\n",
            "  rank_zero_warn(\n",
            "/home/AzDevOps_azpcontainer/.local/lib/python3.9/site-packages/deprecate/deprecation.py:115: LightningDeprecationWarning: The `accuracy` was deprecated since v1.3.0 in favor of `torchmetrics.functional.classification.accuracy.accuracy`. It will be removed in v1.5.0.\n",
            "  stream(template_mgs % msg_args)\n"
          ]
        },
        {
          "data": {
            "application/vnd.jupyter.widget-view+json": {
              "model_id": "191659b1a51f424abe59713294f0b849",
              "version_major": 2,
              "version_minor": 0
            },
            "text/plain": [
              "Training: 0it [00:00, ?it/s]"
            ]
          },
          "metadata": {},
          "output_type": "display_data"
        },
        {
          "data": {
            "application/vnd.jupyter.widget-view+json": {
              "model_id": "d0f1fb02f8294bca861b24e171287770",
              "version_major": 2,
              "version_minor": 0
            },
            "text/plain": [
              "Validating: 0it [00:00, ?it/s]"
            ]
          },
          "metadata": {},
          "output_type": "display_data"
        },
        {
          "name": "stderr",
          "output_type": "stream",
          "text": [
            "/home/AzDevOps_azpcontainer/.local/lib/python3.9/site-packages/pytorch_lightning/callbacks/model_checkpoint.py:610: LightningDeprecationWarning: Relying on `self.log('val_loss', ...)` to set the ModelCheckpoint monitor is deprecated in v1.2 and will be removed in v1.4. Please, create your own `mc = ModelCheckpoint(monitor='your_monitor')` and use it as `Trainer(callbacks=[mc])`.\n",
            "  warning_cache.deprecation(\n"
          ]
        },
        {
          "data": {
            "application/vnd.jupyter.widget-view+json": {
              "model_id": "f288303a8abe40d6acbb38f96c65d192",
              "version_major": 2,
              "version_minor": 0
            },
            "text/plain": [
              "Validating: 0it [00:00, ?it/s]"
            ]
          },
          "metadata": {},
          "output_type": "display_data"
        },
        {
          "data": {
            "application/vnd.jupyter.widget-view+json": {
              "model_id": "0343828b3e42471eb5dc4de052d0fbb9",
              "version_major": 2,
              "version_minor": 0
            },
            "text/plain": [
              "Validating: 0it [00:00, ?it/s]"
            ]
          },
          "metadata": {},
          "output_type": "display_data"
        }
      ]
    },
    {
      "cell_type": "markdown",
      "metadata": {
        "papermill": {
          "duration": 0.012441,
          "end_time": "2021-07-26T21:26:58.234089",
          "exception": false,
          "start_time": "2021-07-26T21:26:58.221648",
          "status": "completed"
        },
        "tags": [],
        "id": "d9eee872"
      },
      "source": [
        "### Testing\n",
        "\n",
        "To test a model, call `trainer.test(model)`.\n",
        "\n",
        "Or, if you've just trained a model, you can just call `trainer.test()` and Lightning will automatically\n",
        "test using the best saved checkpoint (conditioned on val_loss)."
      ],
      "id": "d9eee872"
    },
    {
      "cell_type": "code",
      "metadata": {
        "execution": {
          "iopub.execute_input": "2021-07-26T21:26:58.262162Z",
          "iopub.status.busy": "2021-07-26T21:26:58.261702Z",
          "iopub.status.idle": "2021-07-26T21:26:59.996673Z",
          "shell.execute_reply": "2021-07-26T21:26:59.996198Z"
        },
        "papermill": {
          "duration": 1.750289,
          "end_time": "2021-07-26T21:26:59.996788",
          "exception": false,
          "start_time": "2021-07-26T21:26:58.246499",
          "status": "completed"
        },
        "tags": [],
        "id": "81b1d955",
        "outputId": "1dfd2eda-5e73-4763-bc6d-ef22f79c1ec8",
        "colab": {
          "referenced_widgets": [
            "b89d22fd93dd46688e412a092520ff01"
          ]
        }
      },
      "source": [
        "trainer.test()"
      ],
      "id": "81b1d955",
      "execution_count": null,
      "outputs": [
        {
          "name": "stderr",
          "output_type": "stream",
          "text": [
            "LOCAL_RANK: 0 - CUDA_VISIBLE_DEVICES: [0,1]\n"
          ]
        },
        {
          "name": "stderr",
          "output_type": "stream",
          "text": [
            "/home/AzDevOps_azpcontainer/.local/lib/python3.9/site-packages/pytorch_lightning/trainer/data_loading.py:102: UserWarning: The dataloader, test dataloader 0, does not have many workers which may be a bottleneck. Consider increasing the value of the `num_workers` argument` (try 12 which is the number of cpus on this machine) in the `DataLoader` init to improve performance.\n",
            "  rank_zero_warn(\n"
          ]
        },
        {
          "data": {
            "application/vnd.jupyter.widget-view+json": {
              "model_id": "b89d22fd93dd46688e412a092520ff01",
              "version_major": 2,
              "version_minor": 0
            },
            "text/plain": [
              "Testing: 0it [00:00, ?it/s]"
            ]
          },
          "metadata": {},
          "output_type": "display_data"
        },
        {
          "name": "stdout",
          "output_type": "stream",
          "text": [
            "--------------------------------------------------------------------------------\n",
            "DATALOADER:0 TEST RESULTS\n",
            "{'val_acc': 0.9236999750137329, 'val_loss': 0.2604999840259552}\n",
            "--------------------------------------------------------------------------------\n"
          ]
        },
        {
          "data": {
            "text/plain": [
              "[{'val_loss': 0.2604999840259552, 'val_acc': 0.9236999750137329}]"
            ]
          },
          "execution_count": 7,
          "metadata": {},
          "output_type": "execute_result"
        }
      ]
    },
    {
      "cell_type": "markdown",
      "metadata": {
        "papermill": {
          "duration": 0.014177,
          "end_time": "2021-07-26T21:27:00.025360",
          "exception": false,
          "start_time": "2021-07-26T21:27:00.011183",
          "status": "completed"
        },
        "tags": [],
        "id": "11e47180"
      },
      "source": [
        "### Bonus Tip\n",
        "\n",
        "You can keep calling `trainer.fit(model)` as many times as you'd like to continue training"
      ],
      "id": "11e47180"
    },
    {
      "cell_type": "code",
      "metadata": {
        "execution": {
          "iopub.execute_input": "2021-07-26T21:27:00.056203Z",
          "iopub.status.busy": "2021-07-26T21:27:00.055716Z",
          "iopub.status.idle": "2021-07-26T21:27:10.588162Z",
          "shell.execute_reply": "2021-07-26T21:27:10.587726Z"
        },
        "papermill": {
          "duration": 10.549105,
          "end_time": "2021-07-26T21:27:10.588281",
          "exception": false,
          "start_time": "2021-07-26T21:27:00.039176",
          "status": "completed"
        },
        "tags": [],
        "id": "00d151da",
        "outputId": "98b7bec9-f1bf-4a1d-f25e-fa1cf1425302",
        "colab": {
          "referenced_widgets": [
            "274f335e13fa4f15aec5f35bfc8a27bf",
            "74d4a89facf44f8a9bfd463fae7b4842",
            "04c1b186e8d2478f94ed78cf086e6b28"
          ]
        }
      },
      "source": [
        "trainer.fit(model)"
      ],
      "id": "00d151da",
      "execution_count": null,
      "outputs": [
        {
          "name": "stderr",
          "output_type": "stream",
          "text": [
            "LOCAL_RANK: 0 - CUDA_VISIBLE_DEVICES: [0,1]\n"
          ]
        },
        {
          "name": "stderr",
          "output_type": "stream",
          "text": [
            "\n",
            "  | Name  | Type       | Params\n",
            "-------------------------------------\n",
            "0 | model | Sequential | 55.1 K\n",
            "-------------------------------------\n",
            "55.1 K    Trainable params\n",
            "0         Non-trainable params\n",
            "55.1 K    Total params\n",
            "0.220     Total estimated model params size (MB)\n"
          ]
        },
        {
          "data": {
            "application/vnd.jupyter.widget-view+json": {
              "model_id": "274f335e13fa4f15aec5f35bfc8a27bf",
              "version_major": 2,
              "version_minor": 0
            },
            "text/plain": [
              "Validation sanity check: 0it [00:00, ?it/s]"
            ]
          },
          "metadata": {},
          "output_type": "display_data"
        },
        {
          "data": {
            "application/vnd.jupyter.widget-view+json": {
              "model_id": "74d4a89facf44f8a9bfd463fae7b4842",
              "version_major": 2,
              "version_minor": 0
            },
            "text/plain": [
              "Training: 214it [00:00, ?it/s]"
            ]
          },
          "metadata": {},
          "output_type": "display_data"
        },
        {
          "data": {
            "application/vnd.jupyter.widget-view+json": {
              "model_id": "04c1b186e8d2478f94ed78cf086e6b28",
              "version_major": 2,
              "version_minor": 0
            },
            "text/plain": [
              "Validating: 0it [00:00, ?it/s]"
            ]
          },
          "metadata": {},
          "output_type": "display_data"
        }
      ]
    },
    {
      "cell_type": "markdown",
      "metadata": {
        "papermill": {
          "duration": 0.01562,
          "end_time": "2021-07-26T21:27:10.619813",
          "exception": false,
          "start_time": "2021-07-26T21:27:10.604193",
          "status": "completed"
        },
        "tags": [],
        "id": "9b763621"
      },
      "source": [
        "In Colab, you can use the TensorBoard magic function to view the logs that Lightning has created for you!"
      ],
      "id": "9b763621"
    },
    {
      "cell_type": "code",
      "metadata": {
        "execution": {
          "iopub.execute_input": "2021-07-26T21:27:10.654134Z",
          "iopub.status.busy": "2021-07-26T21:27:10.653670Z",
          "iopub.status.idle": "2021-07-26T21:27:12.191459Z",
          "shell.execute_reply": "2021-07-26T21:27:12.191840Z"
        },
        "papermill": {
          "duration": 1.556686,
          "end_time": "2021-07-26T21:27:12.192004",
          "exception": false,
          "start_time": "2021-07-26T21:27:10.635318",
          "status": "completed"
        },
        "tags": [],
        "id": "827cf296",
        "outputId": "e29aa3c7-2f6f-4afc-d2ae-29f1b43d6b48"
      },
      "source": [
        "# Start tensorboard.\n",
        "%load_ext tensorboard\n",
        "%tensorboard --logdir lightning_logs/"
      ],
      "id": "827cf296",
      "execution_count": null,
      "outputs": [
        {
          "data": {
            "text/html": [
              "\n",
              "      <iframe id=\"tensorboard-frame-adf912bfc581e8bd\" width=\"100%\" height=\"800\" frameborder=\"0\">\n",
              "      </iframe>\n",
              "      <script>\n",
              "        (function() {\n",
              "          const frame = document.getElementById(\"tensorboard-frame-adf912bfc581e8bd\");\n",
              "          const url = new URL(\"/\", window.location);\n",
              "          const port = 6006;\n",
              "          if (port) {\n",
              "            url.port = port;\n",
              "          }\n",
              "          frame.src = url;\n",
              "        })();\n",
              "      </script>\n",
              "    "
            ],
            "text/plain": [
              "<IPython.core.display.HTML object>"
            ]
          },
          "metadata": {},
          "output_type": "display_data"
        }
      ]
    },
    {
      "cell_type": "markdown",
      "metadata": {
        "papermill": {
          "duration": 0.015725,
          "end_time": "2021-07-26T21:27:12.223694",
          "exception": false,
          "start_time": "2021-07-26T21:27:12.207969",
          "status": "completed"
        },
        "tags": [],
        "id": "6949f77e"
      },
      "source": [
        "## Congratulations - Time to Join the Community!\n",
        "\n",
        "Congratulations on completing this notebook tutorial! If you enjoyed this and would like to join the Lightning\n",
        "movement, you can do so in the following ways!\n",
        "\n",
        "### Star [Lightning](https://github.com/PyTorchLightning/pytorch-lightning) on GitHub\n",
        "The easiest way to help our community is just by starring the GitHub repos! This helps raise awareness of the cool\n",
        "tools we're building.\n",
        "\n",
        "### Join our [Slack](https://join.slack.com/t/pytorch-lightning/shared_invite/zt-pw5v393p-qRaDgEk24~EjiZNBpSQFgQ)!\n",
        "The best way to keep up to date on the latest advancements is to join our community! Make sure to introduce yourself\n",
        "and share your interests in `#general` channel\n",
        "\n",
        "\n",
        "### Contributions !\n",
        "The best way to contribute to our community is to become a code contributor! At any time you can go to\n",
        "[Lightning](https://github.com/PyTorchLightning/pytorch-lightning) or [Bolt](https://github.com/PyTorchLightning/lightning-bolts)\n",
        "GitHub Issues page and filter for \"good first issue\".\n",
        "\n",
        "* [Lightning good first issue](https://github.com/PyTorchLightning/pytorch-lightning/issues?q=is%3Aopen+is%3Aissue+label%3A%22good+first+issue%22)\n",
        "* [Bolt good first issue](https://github.com/PyTorchLightning/lightning-bolts/issues?q=is%3Aopen+is%3Aissue+label%3A%22good+first+issue%22)\n",
        "* You can also contribute your own notebooks with useful examples !\n",
        "\n",
        "### Great thanks from the entire Pytorch Lightning Team for your interest !\n",
        "\n",
        "![Pytorch Lightning](data:image/png;base64,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){height=\"60px\" width=\"240px\"}"
      ],
      "id": "6949f77e"
    }
  ]
}